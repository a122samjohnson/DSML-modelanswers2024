{
 "cells": [
  {
   "cell_type": "markdown",
   "id": "b9c0b94b",
   "metadata": {},
   "source": [
    "## Practice Questions\n",
    "\n",
    "This notebook contains practise questions for the assess coursework on the 19th of March. I will upload some model answers in a later lecture. If you can answer all of these questions, then you shouldn't have too much trouble in the coursework.\n",
    "\n",
    "Please use the ‘litho_log’ data available in the data folder of this repository to complete these exercises.\n",
    "\n",
    "### Exercise 1 (Approx. 15 mins)\n",
    "\n",
    "You have been given some data that contains a large number of observations of downhole logs and the name of the lithologies associated with the log response.\n",
    " - 'DEPTH_WMSF': the depth of the measurement below seafloor \n",
    " - 'HCGR': Total gamma ray counts \n",
    " - 'HFK': Potassium counts \n",
    " - 'HTHO': Thorium counts \n",
    " - 'HURA': Uranium counts \n",
    " - 'IDPH': Deep Phasor Dual Induction–Spherically Focused Resistivity \n",
    " - 'IMPH': Medium Phasor Dual Induction–Spherically Focused Resistivity \n",
    " - 'SFLU': Shallow Phasor Dual Induction–Spherically Focused Resistivity \n",
    " - 'lithology': our target value, a string representing the name of the lithology\n",
    " \n",
    "Using a Markdown cell, describe the steps that you would take to clean this data and prepare it for machine learning analysis."
   ]
  },
  {
   "cell_type": "markdown",
   "id": "f935aa68",
   "metadata": {},
   "source": [
    "### Write your answer here (in this Markdown cell)\n",
    "\n",
    "Your answer here."
   ]
  },
  {
   "cell_type": "markdown",
   "id": "376257ae",
   "metadata": {},
   "source": [
    "### Exercise 2 (25 minutes)\n",
    "\n",
    "Load the data set and drop any duplicates you find.\n",
    "\n",
    "Then answer the following questions:\n",
    "\n",
    " - What is the distribution of the lithologies in this dataset?\n",
    " - What is the average depth of the interbedded clay and mud?\n",
    " - Among the samples found at or below 400m (below seafloor), what are the characteristics of the samples with the five highest Uranium counts?"
   ]
  },
  {
   "cell_type": "code",
   "execution_count": null,
   "id": "3e764111",
   "metadata": {},
   "outputs": [],
   "source": []
  },
  {
   "cell_type": "markdown",
   "id": "4483fc99",
   "metadata": {},
   "source": [
    "### Exercise 3.1 (10 minutes)\n",
    "\n",
    "Using the steps you outlined in Exercise 1, split this dataset into a training set and a testing set (with reasonable names). "
   ]
  },
  {
   "cell_type": "code",
   "execution_count": null,
   "id": "6f4b33b9",
   "metadata": {},
   "outputs": [],
   "source": []
  },
  {
   "cell_type": "markdown",
   "id": "2c667819",
   "metadata": {},
   "source": [
    "### Exercise 3.2 (20 minutes)\n",
    "\n",
    "Examine the training set. Are there any missing or unusual values in any of the columns? What are these values and in which columns can they be found? Use a Markdown cell to describe your findings."
   ]
  },
  {
   "cell_type": "code",
   "execution_count": null,
   "id": "c67cd44a",
   "metadata": {},
   "outputs": [],
   "source": []
  },
  {
   "cell_type": "markdown",
   "id": "34fcdd4d",
   "metadata": {},
   "source": [
    "## Exercise 3.3 (10 minutes)\n",
    "\n",
    "Replace any unusual values with `np.nan`. "
   ]
  },
  {
   "cell_type": "code",
   "execution_count": null,
   "id": "4a3a2299",
   "metadata": {},
   "outputs": [],
   "source": []
  },
  {
   "cell_type": "markdown",
   "id": "64b7f304",
   "metadata": {},
   "source": [
    "## Exercise 4 (30 mins)\n",
    "\n",
    "Create a pipeline with an `Imputer`, a `Scaler`, and a `DecisionTreeClassifier`. Set the `random_state` of the `DecisionTreeClassifier` to 42.\n",
    "\n",
    "Create and run a RandomizedSearchCV on three hyperparameters of your choice using `accuracy` as the metric of choice (use `n_iter = 20`). Explain what varying each of your selected hyperparameters will do to your model.\n",
    "\n",
    "Print out the accuracy and parameters of your best model."
   ]
  },
  {
   "cell_type": "code",
   "execution_count": null,
   "id": "74b9e98c",
   "metadata": {},
   "outputs": [],
   "source": []
  },
  {
   "cell_type": "markdown",
   "id": "803c55f2",
   "metadata": {},
   "source": [
    "## Exercise 5 (10 mins)\n",
    "\n",
    "Explain why accuracy may not be the best metric for assessing the performance of a classifier model.\n",
    "\n",
    "Describe three other classification metrics and the scenarios in which they would be useful."
   ]
  },
  {
   "cell_type": "code",
   "execution_count": null,
   "id": "6e8dbea1",
   "metadata": {},
   "outputs": [],
   "source": []
  }
 ],
 "metadata": {
  "kernelspec": {
   "display_name": "Python 3 (ipykernel)",
   "language": "python",
   "name": "python3"
  },
  "language_info": {
   "codemirror_mode": {
    "name": "ipython",
    "version": 3
   },
   "file_extension": ".py",
   "mimetype": "text/x-python",
   "name": "python",
   "nbconvert_exporter": "python",
   "pygments_lexer": "ipython3",
   "version": "3.11.4"
  }
 },
 "nbformat": 4,
 "nbformat_minor": 5
}
